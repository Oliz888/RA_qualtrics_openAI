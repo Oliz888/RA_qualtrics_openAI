{
 "cells": [
  {
   "cell_type": "code",
   "execution_count": 2,
   "metadata": {},
   "outputs": [],
   "source": [
    "import time\n",
    "import csv\n",
    "import openai\n",
    "import logging\n",
    "import re\n",
    "import plotly.graph_objects as go\n",
    "import os\n",
    "from dotenv import load_dotenv"
   ]
  },
  {
   "cell_type": "code",
   "execution_count": 3,
   "metadata": {},
   "outputs": [],
   "source": [
    "# Load environment variables from .env\n",
    "load_dotenv()\n",
    "\n",
    "# Retrieve the OpenAI API key from the environment\n",
    "openai.api_key = os.getenv(\"OPENAI_API_KEY\")\n",
    "\n",
    "# Configure logging\n",
    "logging.basicConfig(filename='evaluation_debug.log', level=logging.DEBUG, format='%(asctime)s - %(levelname)s - %(message)s')\n"
   ]
  },
  {
   "cell_type": "code",
   "execution_count": 4,
   "metadata": {},
   "outputs": [],
   "source": [
    "# Configure logging\n",
    "logging.basicConfig(filename='logs/evaluation_debug.log', level=logging.DEBUG, format='%(asctime)s - %(levelname)s - %(message)s')\n",
    "\n",
    "def get_evaluation(comment):\n",
    "    prompt = f\"Evaluate the following comment: \\\"{comment}\\\" Here are the scores for each dimension:\\nDiscrimination: 9/10\\nPolitical Inclination: 8/10\\nSource Credibility: 2/10\\nPublic Perception: 5/10\\nEmotional Appeal: 10/10\"\n",
    "    while True:\n",
    "        try:\n",
    "            logging.info(f\"Evaluating comment: {comment}\")\n",
    "            response = openai.ChatCompletion.create(\n",
    "                model=\"gpt-3.5-turbo\",\n",
    "                messages=[\n",
    "                    {\"role\": \"system\", \"content\": \"You are an assistant who evaluates comments on various dimensions.\"},\n",
    "                    {\"role\": \"user\", \"content\": prompt}\n",
    "                ],\n",
    "                max_tokens=100\n",
    "            )\n",
    "            logging.info(\"Evaluation successful\")\n",
    "            return response['choices'][0]['message']['content'].strip()\n",
    "        except openai.error.RateLimitError:\n",
    "            logging.warning(\"Rate limit reached. Retrying in 60 seconds...\")\n",
    "            time.sleep(60)  # Wait for 60 seconds before retrying\n",
    "        except Exception as e:\n",
    "            logging.error(f\"An error occurred: {e}\")\n",
    "            return \"Error in evaluation\""
   ]
  },
  {
   "cell_type": "code",
   "execution_count": 5,
   "metadata": {},
   "outputs": [],
   "source": [
    "# File paths\n",
    "input_file_path = '/Users/shiruizhou/Desktop/RA_qualtrics_openAI/data/misinformation_comments.csv'\n",
    "output_file_path = '/Users/shiruizhou/Desktop/RA_qualtrics_openAI/data/output_file.csv'"
   ]
  },
  {
   "cell_type": "code",
   "execution_count": 6,
   "metadata": {},
   "outputs": [
    {
     "name": "stdout",
     "output_type": "stream",
     "text": [
      "Evaluation results written to /Users/shiruizhou/Desktop/RA_qualtrics_openAI/data/output_file.csv\n"
     ]
    }
   ],
   "source": [
    "try:\n",
    "    # Read the CSV file and write the results to a new CSV file\n",
    "    with open(input_file_path, mode='r', newline='', encoding='utf-8') as input_file:\n",
    "        csv_reader = csv.DictReader(input_file)\n",
    "        fieldnames = csv_reader.fieldnames + ['Evaluation']\n",
    "\n",
    "        with open(output_file_path, mode='w', newline='', encoding='utf-8') as output_file:\n",
    "            csv_writer = csv.DictWriter(output_file, fieldnames=fieldnames)\n",
    "            csv_writer.writeheader()\n",
    "\n",
    "            for row in csv_reader:\n",
    "                try:\n",
    "                    # Get evaluation for each comment\n",
    "                    evaluation = get_evaluation(row['Comment'])\n",
    "                    row['Evaluation'] = evaluation\n",
    "                    csv_writer.writerow(row)\n",
    "                except Exception as row_error:\n",
    "                    logging.error(f\"Error processing row {row['Comment']}: {row_error}\")\n",
    "                    row['Evaluation'] = 'Evaluation Error'\n",
    "                    csv_writer.writerow(row)\n",
    "\n",
    "    logging.info(f\"Evaluation results written to {output_file_path}\")\n",
    "    print(f\"Evaluation results written to {output_file_path}\")\n",
    "\n",
    "except Exception as e:\n",
    "    logging.critical(f\"Critical error in processing the CSV file: {e}\")\n",
    "    print(f\"An error occurred: {e}\")\n"
   ]
  },
  {
   "cell_type": "markdown",
   "metadata": {},
   "source": [
    "## Experimentation - radar graph comparision "
   ]
  },
  {
   "cell_type": "code",
   "execution_count": 7,
   "metadata": {},
   "outputs": [
    {
     "name": "stdout",
     "output_type": "stream",
     "text": [
      "Evaluation of the comment \"The policies are biased towards certain groups\":\n",
      "\n",
      "Discrimination: 8/10 - The comment suggests potential bias in policies, which could indicate discrimination against specific groups.\n",
      "Political Inclination: 7/10 - The mention of bias in policies can often be associated with a perception of political inclination.\n",
      "Source Credibility: 6/10 - The comment is subjective and lacks specific details or evidence to establish high credibility.\n",
      "Public Perception: 6/10 - Depending on\n"
     ]
    }
   ],
   "source": [
    "# Function to evaluate comments\n",
    "def get_evaluation(comment):\n",
    "    # Create the evaluation prompt\n",
    "    prompt = (\n",
    "        f\"Evaluate the following comment: \\\"{comment}\\\" \"\n",
    "        \"and provide an estimate for each dimension:\\n\"\n",
    "        \"Discrimination (on a scale of 1 to 10):\\n\"\n",
    "        \"Political Inclination (on a scale of 1 to 10):\\n\"\n",
    "        \"Source Credibility (on a scale of 1 to 10):\\n\"\n",
    "        \"Public Perception (on a scale of 1 to 10):\\n\"\n",
    "        \"Emotional Appeal (on a scale of 1 to 10):\"\n",
    "    )\n",
    "\n",
    "    # Loop for retrying in case of rate limit\n",
    "    retries = 0\n",
    "    max_retries = 5\n",
    "\n",
    "    while retries < max_retries:\n",
    "        try:\n",
    "            # Log the evaluation request\n",
    "            logging.info(f\"Evaluating comment: {comment}\")\n",
    "\n",
    "            # Make the API call to OpenAI\n",
    "            response = openai.ChatCompletion.create(\n",
    "                model=\"gpt-3.5-turbo\",\n",
    "                messages=[\n",
    "                    {\"role\": \"system\", \"content\": \"You are an assistant who evaluates comments on various dimensions.\"},\n",
    "                    {\"role\": \"user\", \"content\": prompt}\n",
    "                ],\n",
    "                max_tokens=100\n",
    "            )\n",
    "\n",
    "            # Extract and return the response content\n",
    "            evaluation_result = response['choices'][0]['message']['content'].strip()\n",
    "            logging.info(\"Evaluation successful\")\n",
    "            return evaluation_result\n",
    "\n",
    "        except openai.error.RateLimitError:\n",
    "            retries += 1\n",
    "            logging.warning(f\"Rate limit reached. Retrying in 60 seconds... (Attempt {retries}/{max_retries})\")\n",
    "            time.sleep(60)  # Wait before retrying\n",
    "\n",
    "        except openai.error.InvalidRequestError as e:\n",
    "            logging.error(f\"Invalid request error: {e}\")\n",
    "            return \"Error: Invalid request\"\n",
    "\n",
    "        except openai.error.AuthenticationError:\n",
    "            logging.error(\"Authentication error: Invalid API key.\")\n",
    "            return \"Error: Authentication failed\"\n",
    "\n",
    "        except Exception as e:\n",
    "            logging.error(f\"An unexpected error occurred: {e}\")\n",
    "            return \"Error in evaluation\"\n",
    "\n",
    "    logging.error(\"Max retries reached. Evaluation failed.\")\n",
    "    return \"Error: Max retries reached\"\n",
    "\n",
    "# Example usage\n",
    "comment = \"The policies are biased towards certain groups.\"\n",
    "result = get_evaluation(comment)\n",
    "print(result)\n"
   ]
  },
  {
   "cell_type": "code",
   "execution_count": 15,
   "metadata": {},
   "outputs": [],
   "source": [
    "import time\n",
    "import openai\n",
    "import logging\n",
    "import re\n",
    "import plotly.graph_objects as go\n",
    "\n",
    "# Function to evaluate comments\n",
    "def get_evaluation(comment):\n",
    "    # Create the evaluation prompt\n",
    "    prompt = (\n",
    "        f\"Evaluate the following comment: \\\"{comment}\\\" \"\n",
    "        \"and provide an estimate for each dimension:\\n\"\n",
    "        \"Discrimination (on a scale of 1 to 10):\\n\"\n",
    "        \"Political Inclination (on a scale of 1 to 10):\\n\"\n",
    "        \"Source Credibility (on a scale of 1 to 10):\\n\"\n",
    "        \"Public Perception (on a scale of 1 to 10):\\n\"\n",
    "        \"Emotional Appeal (on a scale of 1 to 10):\"\n",
    "    )\n",
    "\n",
    "    retries = 0\n",
    "    max_retries = 5\n",
    "\n",
    "    while retries < max_retries:\n",
    "        try:\n",
    "            logging.info(f\"Evaluating comment: {comment}\")\n",
    "            response = openai.ChatCompletion.create(\n",
    "                model=\"gpt-3.5-turbo\",\n",
    "                messages=[\n",
    "                    {\"role\": \"system\", \"content\": \"You are an assistant who evaluates comments on various dimensions.\"},\n",
    "                    {\"role\": \"user\", \"content\": prompt}\n",
    "                ],\n",
    "                max_tokens=100\n",
    "            )\n",
    "\n",
    "            evaluation_result = response['choices'][0]['message']['content'].strip()\n",
    "            logging.info(\"Evaluation successful\")\n",
    "\n",
    "            # Debug: Print raw evaluation result to see the format\n",
    "            print(f\"Raw evaluation result for comment '{comment}':\\n{evaluation_result}\")\n",
    "            return evaluation_result\n",
    "\n",
    "        except openai.error.RateLimitError:\n",
    "            retries += 1\n",
    "            logging.warning(f\"Rate limit reached. Retrying in 60 seconds... (Attempt {retries}/{max_retries})\")\n",
    "            time.sleep(60)\n",
    "\n",
    "        except openai.error.InvalidRequestError as e:\n",
    "            logging.error(f\"Invalid request error: {e}\")\n",
    "            return \"Error: Invalid request\"\n",
    "\n",
    "        except openai.error.AuthenticationError:\n",
    "            logging.error(\"Authentication error: Invalid API key.\")\n",
    "            return \"Error: Authentication failed\"\n",
    "\n",
    "        except Exception as e:\n",
    "            logging.error(f\"An unexpected error occurred: {e}\")\n",
    "            return \"Error in evaluation\"\n",
    "\n",
    "    logging.error(\"Max retries reached. Evaluation failed.\")\n",
    "    return \"Error: Max retries reached\"\n",
    "\n",
    "# Function to extract numerical scores from the evaluation result\n",
    "def extract_scores(evaluation_text):\n",
    "    # Debug: Print the evaluation text to inspect the format\n",
    "    print(f\"Extracting scores from evaluation text:\\n{evaluation_text}\")\n",
    "\n",
    "    # Regex pattern to match \"Dimension: X/10\" where X is a number\n",
    "    # This will match both bullet point format and inline text format\n",
    "    pattern = re.compile(r'(Discrimination|Political Inclination|Source Credibility|Public Perception|Emotional Appeal)[^\\d]*(\\d+)/10')\n",
    "\n",
    "    scores = {match[0]: int(match[1]) for match in pattern.findall(evaluation_text)}\n",
    "\n",
    "    # Debug: Print the extracted scores\n",
    "    print(f\"Extracted Scores: {scores}\")\n",
    "    \n",
    "    return scores\n",
    "\n",
    "# Function to plot radar chart for comparison of two comments\n",
    "def plot_radar(comment1_scores, comment2_scores):\n",
    "    dimensions = list(comment1_scores.keys())\n",
    "    comment1_values = list(comment1_scores.values())\n",
    "    comment2_values = list(comment2_scores.values())\n",
    "\n",
    "    fig = go.Figure()\n",
    "\n",
    "    # Add first comment to radar plot\n",
    "    fig.add_trace(go.Scatterpolar(\n",
    "        r=comment1_values,\n",
    "        theta=dimensions,\n",
    "        fill='toself',\n",
    "        name='Comment 1'\n",
    "    ))\n",
    "\n",
    "    # Add second comment to radar plot\n",
    "    fig.add_trace(go.Scatterpolar(\n",
    "        r=comment2_values,\n",
    "        theta=dimensions,\n",
    "        fill='toself',\n",
    "        name='Comment 2'\n",
    "    ))\n",
    "\n",
    "    # Update layout\n",
    "    fig.update_layout(\n",
    "        polar=dict(\n",
    "            radialaxis=dict(visible=True, range=[0, 10])\n",
    "        ),\n",
    "        showlegend=True,\n",
    "        title=\"Radar Chart Comparison of Two Comments\"\n",
    "    )\n",
    "\n",
    "    # Show the radar chart\n",
    "    fig.show()\n",
    "    fig.save()\n",
    "\n",
    "# Function to compare two comments and plot radar chart\n",
    "def compare_two_comments(comment1, comment2):\n",
    "    # Evaluate both comments\n",
    "    eval1 = get_evaluation(comment1)\n",
    "    eval2 = get_evaluation(comment2)\n",
    "\n",
    "    # Extract the scores\n",
    "    scores1 = extract_scores(eval1)\n",
    "    scores2 = extract_scores(eval2)\n",
    "\n",
    "    # Print extracted scores for debugging\n",
    "    print(\"Comment 1 Scores:\", scores1)\n",
    "    print(\"Comment 2 Scores:\", scores2)\n",
    "\n",
    "    # Plot the radar chart for comparison\n",
    "    plot_radar(scores1, scores2)\n"
   ]
  },
  {
   "cell_type": "code",
   "execution_count": 11,
   "metadata": {},
   "outputs": [
    {
     "name": "stdout",
     "output_type": "stream",
     "text": [
      "Raw evaluation result for comment 'The new tax law unfairly targets small businesses, making it harder for them to compete.':\n",
      "Evaluation of the comment:\n",
      "- Discrimination: 7/10 - The comment suggests that small businesses are being unfairly targeted, which implies some level of discrimination in the new tax law.\n",
      "- Political Inclination: 8/10 - The comment takes a stance against a specific policy (tax law), indicating a potential bias or political inclination.\n",
      "- Source Credibility: 6/10 - Without knowing the expertise or background of the person making the comment, it's challenging to assess the credibility\n",
      "Raw evaluation result for comment 'The tax reform will promote economic growth by giving large corporations more flexibility to innovate.':\n",
      "Discrimination: 3/10 - The comment does not show overt discrimination.\n",
      "Political Inclination: 7/10 - The statement indicates support for tax reform benefiting large corporations, which is often associated with conservative political inclinations.\n",
      "Source Credibility: 5/10 - The comment lacks specific sources or data to support the claim, making it somewhat less credible.\n",
      "Public Perception: 6/10 - Views on tax reform and its impact on economic growth can vary widely among the public\n",
      "Extracting scores from evaluation text:\n",
      "Evaluation of the comment:\n",
      "- Discrimination: 7/10 - The comment suggests that small businesses are being unfairly targeted, which implies some level of discrimination in the new tax law.\n",
      "- Political Inclination: 8/10 - The comment takes a stance against a specific policy (tax law), indicating a potential bias or political inclination.\n",
      "- Source Credibility: 6/10 - Without knowing the expertise or background of the person making the comment, it's challenging to assess the credibility\n",
      "Extracted Scores: {'Discrimination': 7, 'Political Inclination': 8, 'Source Credibility': 6}\n",
      "Extracting scores from evaluation text:\n",
      "Discrimination: 3/10 - The comment does not show overt discrimination.\n",
      "Political Inclination: 7/10 - The statement indicates support for tax reform benefiting large corporations, which is often associated with conservative political inclinations.\n",
      "Source Credibility: 5/10 - The comment lacks specific sources or data to support the claim, making it somewhat less credible.\n",
      "Public Perception: 6/10 - Views on tax reform and its impact on economic growth can vary widely among the public\n",
      "Extracted Scores: {'Discrimination': 3, 'Political Inclination': 7, 'Source Credibility': 5, 'Public Perception': 6}\n",
      "Comment 1 Scores: {'Discrimination': 7, 'Political Inclination': 8, 'Source Credibility': 6}\n",
      "Comment 2 Scores: {'Discrimination': 3, 'Political Inclination': 7, 'Source Credibility': 5, 'Public Perception': 6}\n"
     ]
    },
    {
     "data": {
      "application/vnd.plotly.v1+json": {
       "config": {
        "plotlyServerURL": "https://plot.ly"
       },
       "data": [
        {
         "fill": "toself",
         "name": "Comment 1",
         "r": [
          7,
          8,
          6
         ],
         "theta": [
          "Discrimination",
          "Political Inclination",
          "Source Credibility"
         ],
         "type": "scatterpolar"
        },
        {
         "fill": "toself",
         "name": "Comment 2",
         "r": [
          3,
          7,
          5,
          6
         ],
         "theta": [
          "Discrimination",
          "Political Inclination",
          "Source Credibility"
         ],
         "type": "scatterpolar"
        }
       ],
       "layout": {
        "polar": {
         "radialaxis": {
          "range": [
           0,
           10
          ],
          "visible": true
         }
        },
        "showlegend": true,
        "template": {
         "data": {
          "bar": [
           {
            "error_x": {
             "color": "#2a3f5f"
            },
            "error_y": {
             "color": "#2a3f5f"
            },
            "marker": {
             "line": {
              "color": "#E5ECF6",
              "width": 0.5
             },
             "pattern": {
              "fillmode": "overlay",
              "size": 10,
              "solidity": 0.2
             }
            },
            "type": "bar"
           }
          ],
          "barpolar": [
           {
            "marker": {
             "line": {
              "color": "#E5ECF6",
              "width": 0.5
             },
             "pattern": {
              "fillmode": "overlay",
              "size": 10,
              "solidity": 0.2
             }
            },
            "type": "barpolar"
           }
          ],
          "carpet": [
           {
            "aaxis": {
             "endlinecolor": "#2a3f5f",
             "gridcolor": "white",
             "linecolor": "white",
             "minorgridcolor": "white",
             "startlinecolor": "#2a3f5f"
            },
            "baxis": {
             "endlinecolor": "#2a3f5f",
             "gridcolor": "white",
             "linecolor": "white",
             "minorgridcolor": "white",
             "startlinecolor": "#2a3f5f"
            },
            "type": "carpet"
           }
          ],
          "choropleth": [
           {
            "colorbar": {
             "outlinewidth": 0,
             "ticks": ""
            },
            "type": "choropleth"
           }
          ],
          "contour": [
           {
            "colorbar": {
             "outlinewidth": 0,
             "ticks": ""
            },
            "colorscale": [
             [
              0,
              "#0d0887"
             ],
             [
              0.1111111111111111,
              "#46039f"
             ],
             [
              0.2222222222222222,
              "#7201a8"
             ],
             [
              0.3333333333333333,
              "#9c179e"
             ],
             [
              0.4444444444444444,
              "#bd3786"
             ],
             [
              0.5555555555555556,
              "#d8576b"
             ],
             [
              0.6666666666666666,
              "#ed7953"
             ],
             [
              0.7777777777777778,
              "#fb9f3a"
             ],
             [
              0.8888888888888888,
              "#fdca26"
             ],
             [
              1,
              "#f0f921"
             ]
            ],
            "type": "contour"
           }
          ],
          "contourcarpet": [
           {
            "colorbar": {
             "outlinewidth": 0,
             "ticks": ""
            },
            "type": "contourcarpet"
           }
          ],
          "heatmap": [
           {
            "colorbar": {
             "outlinewidth": 0,
             "ticks": ""
            },
            "colorscale": [
             [
              0,
              "#0d0887"
             ],
             [
              0.1111111111111111,
              "#46039f"
             ],
             [
              0.2222222222222222,
              "#7201a8"
             ],
             [
              0.3333333333333333,
              "#9c179e"
             ],
             [
              0.4444444444444444,
              "#bd3786"
             ],
             [
              0.5555555555555556,
              "#d8576b"
             ],
             [
              0.6666666666666666,
              "#ed7953"
             ],
             [
              0.7777777777777778,
              "#fb9f3a"
             ],
             [
              0.8888888888888888,
              "#fdca26"
             ],
             [
              1,
              "#f0f921"
             ]
            ],
            "type": "heatmap"
           }
          ],
          "heatmapgl": [
           {
            "colorbar": {
             "outlinewidth": 0,
             "ticks": ""
            },
            "colorscale": [
             [
              0,
              "#0d0887"
             ],
             [
              0.1111111111111111,
              "#46039f"
             ],
             [
              0.2222222222222222,
              "#7201a8"
             ],
             [
              0.3333333333333333,
              "#9c179e"
             ],
             [
              0.4444444444444444,
              "#bd3786"
             ],
             [
              0.5555555555555556,
              "#d8576b"
             ],
             [
              0.6666666666666666,
              "#ed7953"
             ],
             [
              0.7777777777777778,
              "#fb9f3a"
             ],
             [
              0.8888888888888888,
              "#fdca26"
             ],
             [
              1,
              "#f0f921"
             ]
            ],
            "type": "heatmapgl"
           }
          ],
          "histogram": [
           {
            "marker": {
             "pattern": {
              "fillmode": "overlay",
              "size": 10,
              "solidity": 0.2
             }
            },
            "type": "histogram"
           }
          ],
          "histogram2d": [
           {
            "colorbar": {
             "outlinewidth": 0,
             "ticks": ""
            },
            "colorscale": [
             [
              0,
              "#0d0887"
             ],
             [
              0.1111111111111111,
              "#46039f"
             ],
             [
              0.2222222222222222,
              "#7201a8"
             ],
             [
              0.3333333333333333,
              "#9c179e"
             ],
             [
              0.4444444444444444,
              "#bd3786"
             ],
             [
              0.5555555555555556,
              "#d8576b"
             ],
             [
              0.6666666666666666,
              "#ed7953"
             ],
             [
              0.7777777777777778,
              "#fb9f3a"
             ],
             [
              0.8888888888888888,
              "#fdca26"
             ],
             [
              1,
              "#f0f921"
             ]
            ],
            "type": "histogram2d"
           }
          ],
          "histogram2dcontour": [
           {
            "colorbar": {
             "outlinewidth": 0,
             "ticks": ""
            },
            "colorscale": [
             [
              0,
              "#0d0887"
             ],
             [
              0.1111111111111111,
              "#46039f"
             ],
             [
              0.2222222222222222,
              "#7201a8"
             ],
             [
              0.3333333333333333,
              "#9c179e"
             ],
             [
              0.4444444444444444,
              "#bd3786"
             ],
             [
              0.5555555555555556,
              "#d8576b"
             ],
             [
              0.6666666666666666,
              "#ed7953"
             ],
             [
              0.7777777777777778,
              "#fb9f3a"
             ],
             [
              0.8888888888888888,
              "#fdca26"
             ],
             [
              1,
              "#f0f921"
             ]
            ],
            "type": "histogram2dcontour"
           }
          ],
          "mesh3d": [
           {
            "colorbar": {
             "outlinewidth": 0,
             "ticks": ""
            },
            "type": "mesh3d"
           }
          ],
          "parcoords": [
           {
            "line": {
             "colorbar": {
              "outlinewidth": 0,
              "ticks": ""
             }
            },
            "type": "parcoords"
           }
          ],
          "pie": [
           {
            "automargin": true,
            "type": "pie"
           }
          ],
          "scatter": [
           {
            "fillpattern": {
             "fillmode": "overlay",
             "size": 10,
             "solidity": 0.2
            },
            "type": "scatter"
           }
          ],
          "scatter3d": [
           {
            "line": {
             "colorbar": {
              "outlinewidth": 0,
              "ticks": ""
             }
            },
            "marker": {
             "colorbar": {
              "outlinewidth": 0,
              "ticks": ""
             }
            },
            "type": "scatter3d"
           }
          ],
          "scattercarpet": [
           {
            "marker": {
             "colorbar": {
              "outlinewidth": 0,
              "ticks": ""
             }
            },
            "type": "scattercarpet"
           }
          ],
          "scattergeo": [
           {
            "marker": {
             "colorbar": {
              "outlinewidth": 0,
              "ticks": ""
             }
            },
            "type": "scattergeo"
           }
          ],
          "scattergl": [
           {
            "marker": {
             "colorbar": {
              "outlinewidth": 0,
              "ticks": ""
             }
            },
            "type": "scattergl"
           }
          ],
          "scattermapbox": [
           {
            "marker": {
             "colorbar": {
              "outlinewidth": 0,
              "ticks": ""
             }
            },
            "type": "scattermapbox"
           }
          ],
          "scatterpolar": [
           {
            "marker": {
             "colorbar": {
              "outlinewidth": 0,
              "ticks": ""
             }
            },
            "type": "scatterpolar"
           }
          ],
          "scatterpolargl": [
           {
            "marker": {
             "colorbar": {
              "outlinewidth": 0,
              "ticks": ""
             }
            },
            "type": "scatterpolargl"
           }
          ],
          "scatterternary": [
           {
            "marker": {
             "colorbar": {
              "outlinewidth": 0,
              "ticks": ""
             }
            },
            "type": "scatterternary"
           }
          ],
          "surface": [
           {
            "colorbar": {
             "outlinewidth": 0,
             "ticks": ""
            },
            "colorscale": [
             [
              0,
              "#0d0887"
             ],
             [
              0.1111111111111111,
              "#46039f"
             ],
             [
              0.2222222222222222,
              "#7201a8"
             ],
             [
              0.3333333333333333,
              "#9c179e"
             ],
             [
              0.4444444444444444,
              "#bd3786"
             ],
             [
              0.5555555555555556,
              "#d8576b"
             ],
             [
              0.6666666666666666,
              "#ed7953"
             ],
             [
              0.7777777777777778,
              "#fb9f3a"
             ],
             [
              0.8888888888888888,
              "#fdca26"
             ],
             [
              1,
              "#f0f921"
             ]
            ],
            "type": "surface"
           }
          ],
          "table": [
           {
            "cells": {
             "fill": {
              "color": "#EBF0F8"
             },
             "line": {
              "color": "white"
             }
            },
            "header": {
             "fill": {
              "color": "#C8D4E3"
             },
             "line": {
              "color": "white"
             }
            },
            "type": "table"
           }
          ]
         },
         "layout": {
          "annotationdefaults": {
           "arrowcolor": "#2a3f5f",
           "arrowhead": 0,
           "arrowwidth": 1
          },
          "autotypenumbers": "strict",
          "coloraxis": {
           "colorbar": {
            "outlinewidth": 0,
            "ticks": ""
           }
          },
          "colorscale": {
           "diverging": [
            [
             0,
             "#8e0152"
            ],
            [
             0.1,
             "#c51b7d"
            ],
            [
             0.2,
             "#de77ae"
            ],
            [
             0.3,
             "#f1b6da"
            ],
            [
             0.4,
             "#fde0ef"
            ],
            [
             0.5,
             "#f7f7f7"
            ],
            [
             0.6,
             "#e6f5d0"
            ],
            [
             0.7,
             "#b8e186"
            ],
            [
             0.8,
             "#7fbc41"
            ],
            [
             0.9,
             "#4d9221"
            ],
            [
             1,
             "#276419"
            ]
           ],
           "sequential": [
            [
             0,
             "#0d0887"
            ],
            [
             0.1111111111111111,
             "#46039f"
            ],
            [
             0.2222222222222222,
             "#7201a8"
            ],
            [
             0.3333333333333333,
             "#9c179e"
            ],
            [
             0.4444444444444444,
             "#bd3786"
            ],
            [
             0.5555555555555556,
             "#d8576b"
            ],
            [
             0.6666666666666666,
             "#ed7953"
            ],
            [
             0.7777777777777778,
             "#fb9f3a"
            ],
            [
             0.8888888888888888,
             "#fdca26"
            ],
            [
             1,
             "#f0f921"
            ]
           ],
           "sequentialminus": [
            [
             0,
             "#0d0887"
            ],
            [
             0.1111111111111111,
             "#46039f"
            ],
            [
             0.2222222222222222,
             "#7201a8"
            ],
            [
             0.3333333333333333,
             "#9c179e"
            ],
            [
             0.4444444444444444,
             "#bd3786"
            ],
            [
             0.5555555555555556,
             "#d8576b"
            ],
            [
             0.6666666666666666,
             "#ed7953"
            ],
            [
             0.7777777777777778,
             "#fb9f3a"
            ],
            [
             0.8888888888888888,
             "#fdca26"
            ],
            [
             1,
             "#f0f921"
            ]
           ]
          },
          "colorway": [
           "#636efa",
           "#EF553B",
           "#00cc96",
           "#ab63fa",
           "#FFA15A",
           "#19d3f3",
           "#FF6692",
           "#B6E880",
           "#FF97FF",
           "#FECB52"
          ],
          "font": {
           "color": "#2a3f5f"
          },
          "geo": {
           "bgcolor": "white",
           "lakecolor": "white",
           "landcolor": "#E5ECF6",
           "showlakes": true,
           "showland": true,
           "subunitcolor": "white"
          },
          "hoverlabel": {
           "align": "left"
          },
          "hovermode": "closest",
          "mapbox": {
           "style": "light"
          },
          "paper_bgcolor": "white",
          "plot_bgcolor": "#E5ECF6",
          "polar": {
           "angularaxis": {
            "gridcolor": "white",
            "linecolor": "white",
            "ticks": ""
           },
           "bgcolor": "#E5ECF6",
           "radialaxis": {
            "gridcolor": "white",
            "linecolor": "white",
            "ticks": ""
           }
          },
          "scene": {
           "xaxis": {
            "backgroundcolor": "#E5ECF6",
            "gridcolor": "white",
            "gridwidth": 2,
            "linecolor": "white",
            "showbackground": true,
            "ticks": "",
            "zerolinecolor": "white"
           },
           "yaxis": {
            "backgroundcolor": "#E5ECF6",
            "gridcolor": "white",
            "gridwidth": 2,
            "linecolor": "white",
            "showbackground": true,
            "ticks": "",
            "zerolinecolor": "white"
           },
           "zaxis": {
            "backgroundcolor": "#E5ECF6",
            "gridcolor": "white",
            "gridwidth": 2,
            "linecolor": "white",
            "showbackground": true,
            "ticks": "",
            "zerolinecolor": "white"
           }
          },
          "shapedefaults": {
           "line": {
            "color": "#2a3f5f"
           }
          },
          "ternary": {
           "aaxis": {
            "gridcolor": "white",
            "linecolor": "white",
            "ticks": ""
           },
           "baxis": {
            "gridcolor": "white",
            "linecolor": "white",
            "ticks": ""
           },
           "bgcolor": "#E5ECF6",
           "caxis": {
            "gridcolor": "white",
            "linecolor": "white",
            "ticks": ""
           }
          },
          "title": {
           "x": 0.05
          },
          "xaxis": {
           "automargin": true,
           "gridcolor": "white",
           "linecolor": "white",
           "ticks": "",
           "title": {
            "standoff": 15
           },
           "zerolinecolor": "white",
           "zerolinewidth": 2
          },
          "yaxis": {
           "automargin": true,
           "gridcolor": "white",
           "linecolor": "white",
           "ticks": "",
           "title": {
            "standoff": 15
           },
           "zerolinecolor": "white",
           "zerolinewidth": 2
          }
         }
        },
        "title": {
         "text": "Radar Chart Comparison of Two Comments"
        }
       }
      }
     },
     "metadata": {},
     "output_type": "display_data"
    }
   ],
   "source": [
    "# Example comments to compare\n",
    "comment1 = \"The new tax law unfairly targets small businesses, making it harder for them to compete.\"\n",
    "comment2 = \"The tax reform will promote economic growth by giving large corporations more flexibility to innovate.\"\n",
    "\n",
    "\n",
    "# Compare the two comments\n",
    "compare_two_comments(comment1, comment2)"
   ]
  }
 ],
 "metadata": {
  "kernelspec": {
   "display_name": "Python 3",
   "language": "python",
   "name": "python3"
  },
  "language_info": {
   "codemirror_mode": {
    "name": "ipython",
    "version": 3
   },
   "file_extension": ".py",
   "mimetype": "text/x-python",
   "name": "python",
   "nbconvert_exporter": "python",
   "pygments_lexer": "ipython3",
   "version": "3.12.5"
  }
 },
 "nbformat": 4,
 "nbformat_minor": 2
}
